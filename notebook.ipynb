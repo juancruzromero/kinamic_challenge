{
 "cells": [
  {
   "cell_type": "markdown",
   "id": "c19c9342",
   "metadata": {},
   "source": [
    "<h1 align=\"center\" style=\"background-color: #303030; padding: 10px;\">\n",
    "  <img src=\"media/kinamic_logo.svg\" width=\"100px\">\n",
    "</h1>\n",
    "\n",
    "# Kinamic Challenge\n",
    "This notebook analyzes the data obtained from web scraping the website [Books to Scrape](https://books.toscrape.com/)."
   ]
  },
  {
   "cell_type": "markdown",
   "id": "f2d1b443",
   "metadata": {},
   "source": [
    "## Index\n",
    "- [1. Imports](#1.-Imports)\n",
    "- [2. Load Data](#2.-Load-Data)\n",
    "- [3. Clean Data 🧹](#3.-Clean-Data-🧹)\n",
    "- [4. Validations 🤔](#4.-Validations)\n",
    "- [5. Analysis and Insights 📈](#5.-Analysis-and-Insights)\n",
    "- [6. Save Clean Data 🛢](#6.-Save-Clean-Data)"
   ]
  },
  {
   "cell_type": "markdown",
   "id": "e8f776cf",
   "metadata": {},
   "source": [
    "## 1. Imports"
   ]
  },
  {
   "cell_type": "code",
   "execution_count": 1,
   "id": "5ded213d",
   "metadata": {},
   "outputs": [],
   "source": [
    "# Import the libraries we used in this analysis\n",
    "import pandas as pd\n",
    "import matplotlib.pyplot as plt\n",
    "import seaborn as sns\n",
    "\n",
    "sns.set(style=\"whitegrid\")\n",
    "plt.rcParams[\"figure.figsize\"] = (10, 5)"
   ]
  },
  {
   "cell_type": "markdown",
   "id": "2abde4fd",
   "metadata": {},
   "source": [
    "## 2. Load Data"
   ]
  },
  {
   "cell_type": "code",
   "execution_count": 2,
   "id": "23df6a87",
   "metadata": {},
   "outputs": [
    {
     "data": {
      "text/html": [
       "<div>\n",
       "<style scoped>\n",
       "    .dataframe tbody tr th:only-of-type {\n",
       "        vertical-align: middle;\n",
       "    }\n",
       "\n",
       "    .dataframe tbody tr th {\n",
       "        vertical-align: top;\n",
       "    }\n",
       "\n",
       "    .dataframe thead th {\n",
       "        text-align: right;\n",
       "    }\n",
       "</style>\n",
       "<table border=\"1\" class=\"dataframe\">\n",
       "  <thead>\n",
       "    <tr style=\"text-align: right;\">\n",
       "      <th></th>\n",
       "      <th>title</th>\n",
       "      <th>category</th>\n",
       "      <th>price</th>\n",
       "      <th>rating</th>\n",
       "    </tr>\n",
       "  </thead>\n",
       "  <tbody>\n",
       "    <tr>\n",
       "      <th>0</th>\n",
       "      <td>It's Only the Himalayas</td>\n",
       "      <td>Travel</td>\n",
       "      <td>£45.17</td>\n",
       "      <td>Two</td>\n",
       "    </tr>\n",
       "    <tr>\n",
       "      <th>1</th>\n",
       "      <td>Full Moon over Noahâs Ark: An Odyssey to Mou...</td>\n",
       "      <td>Travel</td>\n",
       "      <td>£49.43</td>\n",
       "      <td>Four</td>\n",
       "    </tr>\n",
       "    <tr>\n",
       "      <th>2</th>\n",
       "      <td>See America: A Celebration of Our National Par...</td>\n",
       "      <td>Travel</td>\n",
       "      <td>£48.87</td>\n",
       "      <td>Three</td>\n",
       "    </tr>\n",
       "    <tr>\n",
       "      <th>3</th>\n",
       "      <td>Vagabonding: An Uncommon Guide to the Art of L...</td>\n",
       "      <td>Travel</td>\n",
       "      <td>£36.94</td>\n",
       "      <td>Two</td>\n",
       "    </tr>\n",
       "    <tr>\n",
       "      <th>4</th>\n",
       "      <td>Under the Tuscan Sun</td>\n",
       "      <td>Travel</td>\n",
       "      <td>£37.33</td>\n",
       "      <td>Three</td>\n",
       "    </tr>\n",
       "    <tr>\n",
       "      <th>...</th>\n",
       "      <td>...</td>\n",
       "      <td>...</td>\n",
       "      <td>...</td>\n",
       "      <td>...</td>\n",
       "    </tr>\n",
       "    <tr>\n",
       "      <th>995</th>\n",
       "      <td>Why the Right Went Wrong: Conservatism--From G...</td>\n",
       "      <td>Politics</td>\n",
       "      <td>£52.65</td>\n",
       "      <td>Four</td>\n",
       "    </tr>\n",
       "    <tr>\n",
       "      <th>996</th>\n",
       "      <td>Equal Is Unfair: America's Misguided Fight Aga...</td>\n",
       "      <td>Politics</td>\n",
       "      <td>£56.86</td>\n",
       "      <td>One</td>\n",
       "    </tr>\n",
       "    <tr>\n",
       "      <th>997</th>\n",
       "      <td>Amid the Chaos</td>\n",
       "      <td>Cultural</td>\n",
       "      <td>£36.58</td>\n",
       "      <td>One</td>\n",
       "    </tr>\n",
       "    <tr>\n",
       "      <th>998</th>\n",
       "      <td>Dark Notes</td>\n",
       "      <td>Erotica</td>\n",
       "      <td>£19.19</td>\n",
       "      <td>Five</td>\n",
       "    </tr>\n",
       "    <tr>\n",
       "      <th>999</th>\n",
       "      <td>The Long Shadow of Small Ghosts: Murder and Me...</td>\n",
       "      <td>Crime</td>\n",
       "      <td>£10.97</td>\n",
       "      <td>One</td>\n",
       "    </tr>\n",
       "  </tbody>\n",
       "</table>\n",
       "<p>1000 rows × 4 columns</p>\n",
       "</div>"
      ],
      "text/plain": [
       "                                                 title  category   price  \\\n",
       "0                              It's Only the Himalayas    Travel  £45.17   \n",
       "1    Full Moon over Noahâs Ark: An Odyssey to Mou...    Travel  £49.43   \n",
       "2    See America: A Celebration of Our National Par...    Travel  £48.87   \n",
       "3    Vagabonding: An Uncommon Guide to the Art of L...    Travel  £36.94   \n",
       "4                                 Under the Tuscan Sun    Travel  £37.33   \n",
       "..                                                 ...       ...     ...   \n",
       "995  Why the Right Went Wrong: Conservatism--From G...  Politics  £52.65   \n",
       "996  Equal Is Unfair: America's Misguided Fight Aga...  Politics  £56.86   \n",
       "997                                     Amid the Chaos  Cultural  £36.58   \n",
       "998                                         Dark Notes   Erotica  £19.19   \n",
       "999  The Long Shadow of Small Ghosts: Murder and Me...     Crime  £10.97   \n",
       "\n",
       "    rating  \n",
       "0      Two  \n",
       "1     Four  \n",
       "2    Three  \n",
       "3      Two  \n",
       "4    Three  \n",
       "..     ...  \n",
       "995   Four  \n",
       "996    One  \n",
       "997    One  \n",
       "998   Five  \n",
       "999    One  \n",
       "\n",
       "[1000 rows x 4 columns]"
      ]
     },
     "execution_count": 2,
     "metadata": {},
     "output_type": "execute_result"
    }
   ],
   "source": [
    "# Get the DataFrame:\n",
    "df = pd.read_json('data/raw/books.json', encoding='utf-8')\n",
    "df"
   ]
  },
  {
   "cell_type": "markdown",
   "id": "09fd559e",
   "metadata": {},
   "source": [
    "## 3. Clean Data 🧹"
   ]
  },
  {
   "cell_type": "code",
   "execution_count": 3,
   "id": "2dee600a",
   "metadata": {},
   "outputs": [
    {
     "data": {
      "text/html": [
       "<div>\n",
       "<style scoped>\n",
       "    .dataframe tbody tr th:only-of-type {\n",
       "        vertical-align: middle;\n",
       "    }\n",
       "\n",
       "    .dataframe tbody tr th {\n",
       "        vertical-align: top;\n",
       "    }\n",
       "\n",
       "    .dataframe thead th {\n",
       "        text-align: right;\n",
       "    }\n",
       "</style>\n",
       "<table border=\"1\" class=\"dataframe\">\n",
       "  <thead>\n",
       "    <tr style=\"text-align: right;\">\n",
       "      <th></th>\n",
       "      <th>title</th>\n",
       "      <th>category</th>\n",
       "      <th>price</th>\n",
       "      <th>rating</th>\n",
       "    </tr>\n",
       "  </thead>\n",
       "  <tbody>\n",
       "    <tr>\n",
       "      <th>0</th>\n",
       "      <td>It's Only the Himalayas</td>\n",
       "      <td>Travel</td>\n",
       "      <td>45.17</td>\n",
       "      <td>2</td>\n",
       "    </tr>\n",
       "    <tr>\n",
       "      <th>1</th>\n",
       "      <td>Full Moon over Noah’s Ark: An Odyssey to Mount...</td>\n",
       "      <td>Travel</td>\n",
       "      <td>49.43</td>\n",
       "      <td>4</td>\n",
       "    </tr>\n",
       "    <tr>\n",
       "      <th>2</th>\n",
       "      <td>See America: A Celebration of Our National Par...</td>\n",
       "      <td>Travel</td>\n",
       "      <td>48.87</td>\n",
       "      <td>3</td>\n",
       "    </tr>\n",
       "    <tr>\n",
       "      <th>3</th>\n",
       "      <td>Vagabonding: An Uncommon Guide to the Art of L...</td>\n",
       "      <td>Travel</td>\n",
       "      <td>36.94</td>\n",
       "      <td>2</td>\n",
       "    </tr>\n",
       "    <tr>\n",
       "      <th>4</th>\n",
       "      <td>Under the Tuscan Sun</td>\n",
       "      <td>Travel</td>\n",
       "      <td>37.33</td>\n",
       "      <td>3</td>\n",
       "    </tr>\n",
       "    <tr>\n",
       "      <th>...</th>\n",
       "      <td>...</td>\n",
       "      <td>...</td>\n",
       "      <td>...</td>\n",
       "      <td>...</td>\n",
       "    </tr>\n",
       "    <tr>\n",
       "      <th>995</th>\n",
       "      <td>Why the Right Went Wrong: Conservatism--From G...</td>\n",
       "      <td>Politics</td>\n",
       "      <td>52.65</td>\n",
       "      <td>4</td>\n",
       "    </tr>\n",
       "    <tr>\n",
       "      <th>996</th>\n",
       "      <td>Equal Is Unfair: America's Misguided Fight Aga...</td>\n",
       "      <td>Politics</td>\n",
       "      <td>56.86</td>\n",
       "      <td>1</td>\n",
       "    </tr>\n",
       "    <tr>\n",
       "      <th>997</th>\n",
       "      <td>Amid the Chaos</td>\n",
       "      <td>Cultural</td>\n",
       "      <td>36.58</td>\n",
       "      <td>1</td>\n",
       "    </tr>\n",
       "    <tr>\n",
       "      <th>998</th>\n",
       "      <td>Dark Notes</td>\n",
       "      <td>Erotica</td>\n",
       "      <td>19.19</td>\n",
       "      <td>5</td>\n",
       "    </tr>\n",
       "    <tr>\n",
       "      <th>999</th>\n",
       "      <td>The Long Shadow of Small Ghosts: Murder and Me...</td>\n",
       "      <td>Crime</td>\n",
       "      <td>10.97</td>\n",
       "      <td>1</td>\n",
       "    </tr>\n",
       "  </tbody>\n",
       "</table>\n",
       "<p>1000 rows × 4 columns</p>\n",
       "</div>"
      ],
      "text/plain": [
       "                                                 title  category  price  \\\n",
       "0                              It's Only the Himalayas    Travel  45.17   \n",
       "1    Full Moon over Noah’s Ark: An Odyssey to Mount...    Travel  49.43   \n",
       "2    See America: A Celebration of Our National Par...    Travel  48.87   \n",
       "3    Vagabonding: An Uncommon Guide to the Art of L...    Travel  36.94   \n",
       "4                                 Under the Tuscan Sun    Travel  37.33   \n",
       "..                                                 ...       ...    ...   \n",
       "995  Why the Right Went Wrong: Conservatism--From G...  Politics  52.65   \n",
       "996  Equal Is Unfair: America's Misguided Fight Aga...  Politics  56.86   \n",
       "997                                     Amid the Chaos  Cultural  36.58   \n",
       "998                                         Dark Notes   Erotica  19.19   \n",
       "999  The Long Shadow of Small Ghosts: Murder and Me...     Crime  10.97   \n",
       "\n",
       "     rating  \n",
       "0         2  \n",
       "1         4  \n",
       "2         3  \n",
       "3         2  \n",
       "4         3  \n",
       "..      ...  \n",
       "995       4  \n",
       "996       1  \n",
       "997       1  \n",
       "998       5  \n",
       "999       1  \n",
       "\n",
       "[1000 rows x 4 columns]"
      ]
     },
     "execution_count": 3,
     "metadata": {},
     "output_type": "execute_result"
    }
   ],
   "source": [
    "# Clean prices data:\n",
    "df['price'] = df['price'].str.replace('£', '').astype(float)\n",
    "\n",
    "# Clean rating:\n",
    "rating_map = {\n",
    "    'One': 1, 'Two': 2, 'Three': 3,\n",
    "    'Four': 4, 'Five': 5\n",
    "}\n",
    "df['rating'] = df['rating'].map(rating_map)\n",
    "\n",
    "# Clean titles:\n",
    "df['title'] = df['title'].apply(lambda x: x.encode('latin1').decode('utf-8') if 'â' in x else x)\n",
    "\n",
    "df"
   ]
  },
  {
   "cell_type": "markdown",
   "id": "628268d0",
   "metadata": {},
   "source": [
    "## 4. Validations"
   ]
  },
  {
   "cell_type": "code",
   "execution_count": 4,
   "id": "a25fac16",
   "metadata": {},
   "outputs": [],
   "source": [
    "def validate_books_df(df: pd.DataFrame) -> dict:\n",
    "    \"\"\"Validates a DataFrame of books scraped from a website.\n",
    "\n",
    "    Args:\n",
    "        df (pd.DataFrame): The DataFrame to validate.\n",
    "\n",
    "    Returns:\n",
    "        dict: A dictionary with validation status and issues found.\n",
    "    \"\"\"\n",
    "    issues = {}\n",
    "\n",
    "    # 1. Column presence check\n",
    "    expected_columns = {'title', 'category', 'price', 'rating'}\n",
    "    if not expected_columns.issubset(df.columns):\n",
    "        issues['missing_columns'] = list(expected_columns - set(df.columns))\n",
    "\n",
    "    # 2. Nulls check\n",
    "    null_counts = df.isnull().sum()\n",
    "    null_issues = null_counts[null_counts > 0].to_dict()\n",
    "    if null_issues:\n",
    "        issues['null_values'] = null_issues\n",
    "\n",
    "    # 3. Data types check\n",
    "    if not pd.api.types.is_numeric_dtype(df['price']):\n",
    "        issues['price_dtype'] = 'Expected numeric'\n",
    "    if not pd.api.types.is_numeric_dtype(df['rating']):\n",
    "        issues['rating_dtype'] = 'Expected numeric'\n",
    "\n",
    "    # 4. Price values check\n",
    "    if (df['price'] < 0).any():\n",
    "        issues['invalid_prices'] = 'Price contains negative values'\n",
    "\n",
    "    # 5. Rating values check (expected 1 to 5)\n",
    "    if not df['rating'].between(1, 5).all():\n",
    "        issues['invalid_ratings'] = 'Rating must be between 1 and 5'\n",
    "\n",
    "    # 6. Title and category empty strings\n",
    "    for col in ['title', 'category']:\n",
    "        if (df[col].astype(str).str.strip() == '').any():\n",
    "            issues[f'invalid_{col}'] = f'{col} contains empty or whitespace-only strings'\n",
    "\n",
    "    return {'is_valid': len(issues) == 0, 'issues': issues}"
   ]
  },
  {
   "cell_type": "code",
   "execution_count": 5,
   "id": "17cfcbc3-82c9-4528-8053-250029eed088",
   "metadata": {},
   "outputs": [
    {
     "name": "stdout",
     "output_type": "stream",
     "text": [
      "{'is_valid': True, 'issues': {}}\n"
     ]
    }
   ],
   "source": [
    "result = validate_books_df(df)\n",
    "print(result)"
   ]
  },
  {
   "cell_type": "markdown",
   "id": "e7485abc-b5f8-461b-9c26-49bfc59532fc",
   "metadata": {},
   "source": [
    "### Don't found issues"
   ]
  },
  {
   "cell_type": "markdown",
   "id": "283950c3",
   "metadata": {},
   "source": [
    "## 5. Analysis and Insights"
   ]
  },
  {
   "cell_type": "markdown",
   "id": "9cd2557f",
   "metadata": {},
   "source": [
    "### 5.1 **Number of books per category:** Here we can see the categories that have the most books"
   ]
  },
  {
   "cell_type": "code",
   "execution_count": 6,
   "id": "c9238794",
   "metadata": {},
   "outputs": [
    {
     "data": {
      "image/png": "[encoded data removed]",
      "text/plain": [
       "<Figure size 1000x400 with 1 Axes>"
      ]
     },
     "metadata": {},
     "output_type": "display_data"
    }
   ],
   "source": [
    "plt.figure(figsize=(10, 4))\n",
    "category_counts = df['category'].value_counts().head(10)\n",
    "sns.barplot(x=category_counts.values, y=category_counts.index)\n",
    "plt.title('Number of Books per Category - TOP 10 ')\n",
    "plt.xlabel('Number of Books')\n",
    "plt.ylabel('Category')\n",
    "plt.tight_layout()\n",
    "plt.show()"
   ]
  },
  {
   "cell_type": "markdown",
   "id": "8e435c06",
   "metadata": {},
   "source": [
    "### 5.2 **Price per category (Average):** Which category has the most expensive books?"
   ]
  },
  {
   "cell_type": "code",
   "execution_count": 7,
   "id": "009a50e5",
   "metadata": {},
   "outputs": [
    {
     "data": {
      "image/png": "[encoded data removed]",
      "text/plain": [
       "<Figure size 1000x500 with 1 Axes>"
      ]
     },
     "metadata": {},
     "output_type": "display_data"
    }
   ],
   "source": [
    "avg_price_per_category = df.groupby('category')['price'].mean().sort_values(ascending=False).head(10)\n",
    "\n",
    "avg_price_per_category.plot(kind='bar')\n",
    "plt.title('Price per category (Average)')\n",
    "plt.ylabel('Price average')\n",
    "plt.xlabel('Category')\n",
    "plt.tight_layout()\n",
    "plt.show()"
   ]
  },
  {
   "cell_type": "markdown",
   "id": "26c6c1ae",
   "metadata": {},
   "source": [
    "### 5.3 **Rating per category:** Categories with the best rating"
   ]
  },
  {
   "cell_type": "code",
   "execution_count": 8,
   "id": "3548e8b6",
   "metadata": {},
   "outputs": [
    {
     "data": {
      "image/png": "[encoded data removed]",
      "text/plain": [
       "<Figure size 1000x500 with 1 Axes>"
      ]
     },
     "metadata": {},
     "output_type": "display_data"
    }
   ],
   "source": [
    "avg_rating_by_category = df.groupby('category')['rating'].mean().sort_values(ascending=False).head(5)\n",
    "\n",
    "avg_rating_by_category.plot(kind='bar')\n",
    "plt.title('Rating per category (Average)')\n",
    "plt.xlabel('Category')\n",
    "plt.ylabel('Rating average')\n",
    "plt.xticks(rotation=0)\n",
    "plt.tight_layout()\n",
    "plt.show()"
   ]
  },
  {
   "cell_type": "markdown",
   "id": "8a4c6df0",
   "metadata": {},
   "source": [
    "### 5.4 Top 5 Most Expensive Books"
   ]
  },
  {
   "cell_type": "code",
   "execution_count": 9,
   "id": "69e0de3c",
   "metadata": {},
   "outputs": [
    {
     "data": {
      "text/html": [
       "<div>\n",
       "<style scoped>\n",
       "    .dataframe tbody tr th:only-of-type {\n",
       "        vertical-align: middle;\n",
       "    }\n",
       "\n",
       "    .dataframe tbody tr th {\n",
       "        vertical-align: top;\n",
       "    }\n",
       "\n",
       "    .dataframe thead th {\n",
       "        text-align: right;\n",
       "    }\n",
       "</style>\n",
       "<table border=\"1\" class=\"dataframe\">\n",
       "  <thead>\n",
       "    <tr style=\"text-align: right;\">\n",
       "      <th></th>\n",
       "      <th>title</th>\n",
       "      <th>category</th>\n",
       "      <th>price</th>\n",
       "      <th>rating</th>\n",
       "    </tr>\n",
       "  </thead>\n",
       "  <tbody>\n",
       "    <tr>\n",
       "      <th>191</th>\n",
       "      <td>The Perfect Play (Play by Play #1)</td>\n",
       "      <td>Romance</td>\n",
       "      <td>59.99</td>\n",
       "      <td>3</td>\n",
       "    </tr>\n",
       "    <tr>\n",
       "      <th>271</th>\n",
       "      <td>Last One Home (New Beginnings #1)</td>\n",
       "      <td>Fiction</td>\n",
       "      <td>59.98</td>\n",
       "      <td>3</td>\n",
       "    </tr>\n",
       "    <tr>\n",
       "      <th>845</th>\n",
       "      <td>Civilization and Its Discontents</td>\n",
       "      <td>Psychology</td>\n",
       "      <td>59.95</td>\n",
       "      <td>2</td>\n",
       "    </tr>\n",
       "    <tr>\n",
       "      <th>925</th>\n",
       "      <td>The Barefoot Contessa Cookbook</td>\n",
       "      <td>Food and drink</td>\n",
       "      <td>59.92</td>\n",
       "      <td>5</td>\n",
       "    </tr>\n",
       "    <tr>\n",
       "      <th>368</th>\n",
       "      <td>The Diary of a Young Girl</td>\n",
       "      <td>Nonfiction</td>\n",
       "      <td>59.90</td>\n",
       "      <td>3</td>\n",
       "    </tr>\n",
       "  </tbody>\n",
       "</table>\n",
       "</div>"
      ],
      "text/plain": [
       "                                  title        category  price  rating\n",
       "191  The Perfect Play (Play by Play #1)         Romance  59.99       3\n",
       "271   Last One Home (New Beginnings #1)         Fiction  59.98       3\n",
       "845    Civilization and Its Discontents      Psychology  59.95       2\n",
       "925      The Barefoot Contessa Cookbook  Food and drink  59.92       5\n",
       "368           The Diary of a Young Girl      Nonfiction  59.90       3"
      ]
     },
     "execution_count": 9,
     "metadata": {},
     "output_type": "execute_result"
    }
   ],
   "source": [
    "top5_expensive_books = df.nlargest(5, 'price')\n",
    "top5_expensive_books"
   ]
  },
  {
   "cell_type": "markdown",
   "id": "5210fdff",
   "metadata": {},
   "source": [
    "### 5.5 Top 5 Cheapest Books"
   ]
  },
  {
   "cell_type": "code",
   "execution_count": 10,
   "id": "9555ca7b",
   "metadata": {},
   "outputs": [
    {
     "data": {
      "text/html": [
       "<div>\n",
       "<style scoped>\n",
       "    .dataframe tbody tr th:only-of-type {\n",
       "        vertical-align: middle;\n",
       "    }\n",
       "\n",
       "    .dataframe tbody tr th {\n",
       "        vertical-align: top;\n",
       "    }\n",
       "\n",
       "    .dataframe thead th {\n",
       "        text-align: right;\n",
       "    }\n",
       "</style>\n",
       "<table border=\"1\" class=\"dataframe\">\n",
       "  <thead>\n",
       "    <tr style=\"text-align: right;\">\n",
       "      <th></th>\n",
       "      <th>title</th>\n",
       "      <th>category</th>\n",
       "      <th>price</th>\n",
       "      <th>rating</th>\n",
       "    </tr>\n",
       "  </thead>\n",
       "  <tbody>\n",
       "    <tr>\n",
       "      <th>781</th>\n",
       "      <td>An Abundance of Katherines</td>\n",
       "      <td>Young adult</td>\n",
       "      <td>10.00</td>\n",
       "      <td>5</td>\n",
       "    </tr>\n",
       "    <tr>\n",
       "      <th>804</th>\n",
       "      <td>The Origin of Species</td>\n",
       "      <td>Science</td>\n",
       "      <td>10.01</td>\n",
       "      <td>4</td>\n",
       "    </tr>\n",
       "    <tr>\n",
       "      <th>666</th>\n",
       "      <td>The Tipping Point: How Little Things Can Make ...</td>\n",
       "      <td>Add a comment</td>\n",
       "      <td>10.02</td>\n",
       "      <td>2</td>\n",
       "    </tr>\n",
       "    <tr>\n",
       "      <th>77</th>\n",
       "      <td>Patience</td>\n",
       "      <td>Sequential art</td>\n",
       "      <td>10.16</td>\n",
       "      <td>3</td>\n",
       "    </tr>\n",
       "    <tr>\n",
       "      <th>497</th>\n",
       "      <td>Greek Mythic History</td>\n",
       "      <td>Default</td>\n",
       "      <td>10.23</td>\n",
       "      <td>5</td>\n",
       "    </tr>\n",
       "  </tbody>\n",
       "</table>\n",
       "</div>"
      ],
      "text/plain": [
       "                                                 title        category  price  \\\n",
       "781                         An Abundance of Katherines     Young adult  10.00   \n",
       "804                              The Origin of Species         Science  10.01   \n",
       "666  The Tipping Point: How Little Things Can Make ...   Add a comment  10.02   \n",
       "77                                            Patience  Sequential art  10.16   \n",
       "497                               Greek Mythic History         Default  10.23   \n",
       "\n",
       "     rating  \n",
       "781       5  \n",
       "804       4  \n",
       "666       2  \n",
       "77        3  \n",
       "497       5  "
      ]
     },
     "execution_count": 10,
     "metadata": {},
     "output_type": "execute_result"
    }
   ],
   "source": [
    "top5_cheapest_books = df.nsmallest(5, 'price')\n",
    "top5_cheapest_books"
   ]
  },
  {
   "cell_type": "markdown",
   "id": "a4e40140",
   "metadata": {},
   "source": [
    "## 6. Save Clean Data"
   ]
  },
  {
   "cell_type": "code",
   "execution_count": 11,
   "id": "e70990d1",
   "metadata": {},
   "outputs": [],
   "source": [
    "# Save data to a clean CSV\n",
    "df.to_csv('data/processed/books.csv', sep=\";\",index=False)"
   ]
  }
 ],
 "metadata": {
  "kernelspec": {
   "display_name": "Python 3 (ipykernel)",
   "language": "python",
   "name": "python3"
  },
  "language_info": {
   "codemirror_mode": {
    "name": "ipython",
    "version": 3
   },
   "file_extension": ".py",
   "mimetype": "text/x-python",
   "name": "python",
   "nbconvert_exporter": "python",
   "pygments_lexer": "ipython3",
   "version": "3.10.12"
  }
 },
 "nbformat": 4,
 "nbformat_minor": 5
}
